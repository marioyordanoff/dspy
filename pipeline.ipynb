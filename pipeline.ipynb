{
 "cells": [
  {
   "cell_type": "code",
   "execution_count": 20,
   "metadata": {},
   "outputs": [
    {
     "data": {
      "text/plain": [
       "True"
      ]
     },
     "execution_count": 20,
     "metadata": {},
     "output_type": "execute_result"
    }
   ],
   "source": [
    "#Load the .env varibale file \n",
    "import os \n",
    "from dotenv import load_dotenv, find_dotenv\n",
    "\n",
    "load_dotenv(find_dotenv())"
   ]
  },
  {
   "cell_type": "code",
   "execution_count": 28,
   "metadata": {},
   "outputs": [],
   "source": [
    "# Import Libraries\n",
    "import re \n",
    "from pypdf import PdfReader\n",
    "import chromadb\n",
    "from chromadb.utils import embedding_functions\n",
    "import dspy\n",
    "from dspy.retrieve.chromadb_rm import ChromadbRM\n",
    "\n"
   ]
  },
  {
   "cell_type": "code",
   "execution_count": 25,
   "metadata": {},
   "outputs": [],
   "source": [
    "def load_documents(file_path):\n",
    "    reader = PdfReader(file_path)\n",
    "    return [p.extract_text().strip() for p in reader.pages if p.extract_text()]\n",
    "\n",
    "def clean_text(text):\n",
    "    \"\"\"Normalize whitespace and remove non-printable characters.\"\"\"\n",
    "    text = re.sub(r'\\s+', ' ', text)\n",
    "    text = re.sub(r'[^\\x00-\\x7F]+', '', text)\n",
    "    return text\n",
    "\n",
    "# Split the text with chunk size of 1000\n",
    "def chunk_text(text, size=1000):\n",
    "    \"\"\"Split text into chunks of approximately 'size' characters.\"\"\"\n",
    "    words = text.split()\n",
    "    chunks, current_chunk, current_length = [], [], 0\n",
    "    for word in words:\n",
    "        if current_length + len(word) + 1 > size:\n",
    "            chunks.append(' '.join(current_chunk))\n",
    "            current_chunk, current_length = [word], len(word) + 1\n",
    "        else:\n",
    "            current_chunk.append(word)\n",
    "            current_length += len(word) + 1\n",
    "    if current_chunk:\n",
    "        chunks.append(' '.join(current_chunk))\n",
    "    return chunks\n",
    "\n",
    "def process_pdf(file_path):\n",
    "    \"\"\"Load, clean, and chunk text from a PDF.\"\"\"\n",
    "    pdf_texts = load_documents(file_path)\n",
    "    full_text = '\\n'.join(pdf_texts)\n",
    "    cleaned_text = clean_text(full_text)\n",
    "    return chunk_text(cleaned_text)\n",
    "\n",
    "# Load PDF file and prepare text\n",
    "pdf_file = './data/tesla10K.pdf'\n",
    "token_split_texts = process_pdf(pdf_file)"
   ]
  },
  {
   "cell_type": "code",
   "execution_count": 29,
   "metadata": {},
   "outputs": [
    {
     "name": "stderr",
     "output_type": "stream",
     "text": [
      "/home/yordanoff/.cache/chroma/onnx_models/all-MiniLM-L6-v2/onnx.tar.gz:   0%|          | 0.00/79.3M [00:00<?, ?iB/s]"
     ]
    },
    {
     "name": "stderr",
     "output_type": "stream",
     "text": [
      "/home/yordanoff/.cache/chroma/onnx_models/all-MiniLM-L6-v2/onnx.tar.gz: 100%|██████████| 79.3M/79.3M [00:39<00:00, 2.13MiB/s]\n"
     ]
    }
   ],
   "source": [
    "# Initialize the ChromaDB client and create/get collection\n",
    "chroma_client = chromadb.PersistentClient(path=\"./teslasec\")\n",
    "collection = chroma_client.get_or_create_collection(\n",
    "    name=\"tesla\",\n",
    "    embedding_function=embedding_functions.DefaultEmbeddingFunction()\n",
    ")\n",
    "# Add documents to the collection\n",
    "collection.add(documents=token_split_texts, ids=[str(i) for i in range(len(token_split_texts))])"
   ]
  },
  {
   "cell_type": "code",
   "execution_count": 31,
   "metadata": {},
   "outputs": [],
   "source": [
    "# DSPY Retriever Model\n",
    "\n",
    "llm_model = dspy.OpenAI(model = \"gpt-4o-mini\")\n",
    "retriever_model = ChromadbRM(\n",
    "    collection_name='tesla', \n",
    "    persist_directory=\"./teslasec\",\n",
    "    embedding_function=embedding_functions.DefaultEmbeddingFunction(),\n",
    "    k=5\n",
    ")\n",
    "# Configure DSPY settings with the language model and retriever model\n",
    "dspy.settings.configure(lm=llm_model, rm=retriever_model)"
   ]
  },
  {
   "cell_type": "code",
   "execution_count": 32,
   "metadata": {},
   "outputs": [
    {
     "data": {
      "text/plain": [
       "[{'id': '355',\n",
       "  'score': 0.9241970777511597,\n",
       "  'long_text': 'manufacture, installation, sales and leasing of solar energy generation and energy storage products and related services and sales of solar energy systems incentives. Our CODM does not evaluate operating segments using asset or liability information. The following table presents revenues and gross profit by reportable segment (in millions): Year Ended December 31, 2023 2022 2021 Automotive segment Revenues $ 90,738 $ 77,553 $ 51,034 Gross profit $ 16,519 $ 20,565 $ 13,735 Energy generation and storage segment Revenues $ 6,035 $ 3,909 $ 2,789 Gross profit $ 1,141 $ 288 $ ( 129 ) The following table presents revenues by geographic area based on the sales location of our products (in millions): Year Ended December 31, 2023 2022 2021 United States $ 45,235 $ 40,553 $ 23,973 China 21,745 18,145 13,844 Other international 29,793 22,764 16,006 Total $ 96,773 $ 81,462 $ 53,823 The following table presents long-lived assets by geographic area (in millions): December 31, 2023 December 31, 2022',\n",
       "  'metadatas': None},\n",
       " {'id': '234',\n",
       "  'score': 0.9567548632621765,\n",
       "  'long_text': 'is recognized as revenue ratably over the respective customer contract term. As of December 31, 2023 and 2022, deferred revenue related to such customer payments amounted to $ 1.60 billion and $ 863 million, respectively, mainly due to contractual payment terms. Revenue recognized from the deferred revenue balance as of December 31, 2022 and 2021 was $ 571 million and $ 171 million for the years ended December 31, 2023 and 2022, respectively. We have elected the practical expedient to omit disclosure of the amount of the transaction price allocated to remaining performance obligations for energy generation and storage sales with an original expected contract length of one year or less and the amount that we have the right to invoice when that amount corresponds directly with the value of the performance to date. As of December 31, 2023, total transaction price allocated to performance obligations that were unsatisfied or partially unsatisfied for contracts with an original expected',\n",
       "  'metadatas': None},\n",
       " {'id': '229',\n",
       "  'score': 1.0257493257522583,\n",
       "  'long_text': 'leasing revenue and $ 164 million, $ 427 million and $ 234 million, respectively, of sales-type leasing cost of revenue. Services and Other Revenue Services and other revenue consists of sales of used vehicles, non-warranty after-sales vehicle services, body shop and parts, paid Supercharging, vehicle insurance revenue and retail merchandise. Revenues related to repair, maintenance and vehicle insurance services are recognized over time as services are provided and extended service plans are recognized over the performance period of the service contract as the obligation represents a stand-ready obligation to the customer. We sell used vehicles, services, service plans, vehicle components and merchandise separately and thus use standalone selling prices as the basis for revenue allocation to the extent that these items are sold in transactions with other performance obligations. Payment for used vehicles, services, vehicle components, and merchandise are typically received at the',\n",
       "  'metadatas': None},\n",
       " {'id': '28',\n",
       "  'score': 1.046702265739441,\n",
       "  'long_text': 'Pricing for these materials is governed by market conditions and may fluctuate due to various factors outside of our control, such as supply and demand and market speculation. We strive to execute long-term supply contracts for such materials at competitive pricing when feasible, and we currently believe that we have adequate access to raw materials supplies to meet the needs of our operations. Governmental Programs, Incentives and Regulations Globally, the ownership of our products by our customers is impacted by various government credits, incentives, and policies. Our business and products are also subject to numerous governmental regulations that vary among jurisdictions. The operation of our business is also impacted by various government programs, incentives, and other arrangements. See Note 2, Summary of Significant Accounting Policies , to the consolidated financial statements included elsewhere in this Annual Report on Form 10-K for further details. Programs and Incentives',\n",
       "  'metadatas': None},\n",
       " {'id': '218',\n",
       "  'score': 1.0830039978027344,\n",
       "  'long_text': 'receivables, inventory valuation, warranties, fair value of long-lived assets, goodwill, fair value of financial instruments, fair value and residual value of operating lease vehicles and solar energy systems subject to leases could be impacted. We have assessed the impact and are not aware of any specific events or circumstances that required an update to our estimates and assumptions or materially affected the carrying value of our assets or liabilities as of the date of issuance of this Annual Report on Form 10-K. These estimates may change as new events occur and additional information is obtained. Actual results could differ materially from these estimates under different assumptions or conditions. Reclassifications Certain prior period balances have been reclassified to conform to the current period presentation in the consolidated financial statements and the accompanying notes. 54 Revenue Recognition Revenue by source The following table disaggregates our revenue by major',\n",
       "  'metadatas': None}]"
      ]
     },
     "execution_count": 32,
     "metadata": {},
     "output_type": "execute_result"
    }
   ],
   "source": [
    "retriever_model(\"revenue\")"
   ]
  },
  {
   "cell_type": "markdown",
   "metadata": {},
   "source": [
    "## Let's Create The RAG Pipeline "
   ]
  },
  {
   "cell_type": "code",
   "execution_count": 40,
   "metadata": {},
   "outputs": [
    {
     "data": {
      "text/plain": [
       "generate_answer = Predict(StringSignature(context, question -> rationale, answer\n",
       "    instructions='Answer questions with short factoid answers.'\n",
       "    context = Field(annotation=str required=True json_schema_extra={'desc': 'may contain relevant facts', '__dspy_field_type': 'input', 'prefix': 'Context:'})\n",
       "    question = Field(annotation=str required=True json_schema_extra={'__dspy_field_type': 'input', 'prefix': 'Question:', 'desc': '${question}'})\n",
       "    rationale = Field(annotation=str required=True json_schema_extra={'prefix': \"Reasoning: Let's think step by step in order to\", 'desc': '${produce the answer}. We ...', '__dspy_field_type': 'output'})\n",
       "    answer = Field(annotation=str required=True json_schema_extra={'desc': 'often between 1 and 5 words', '__dspy_field_type': 'output', 'prefix': 'Answer:'})\n",
       "))"
      ]
     },
     "execution_count": 40,
     "metadata": {},
     "output_type": "execute_result"
    }
   ],
   "source": [
    "import chromadb\n",
    "from chromadb.utils import embedding_functions\n",
    "import dspy\n",
    "from dspy.retrieve.chromadb_rm import ChromadbRM\n",
    "from dspy.datasets import HotPotQA\n",
    "\n",
    "class GenerateAnswer(dspy.Signature):\n",
    "    \"\"\"Answer questions with short factoid answers.\"\"\"\n",
    "    context = dspy.InputField(desc=\"may contain relevant facts\")\n",
    "    question = dspy.InputField()\n",
    "    answer = dspy.OutputField(desc=\"often between 1 and 5 words\")\n",
    "\n",
    "\n",
    "class GenerateSearchQuery(dspy.Signature):\n",
    "    \"\"\"Write a simple search query that will help answer a complex question.\"\"\"\n",
    "    context = dspy.InputField(desc=\"may contain   relevant facts\")\n",
    "    question = dspy.InputField()\n",
    "    query = dspy.OutputField()\n",
    "\n",
    "\n",
    "class RAG(dspy.Module):\n",
    "    def __init__(self, num_passages=3):\n",
    "        super().__init__()\n",
    "\n",
    "        self.retrieve = dspy.Retrieve(k=num_passages)\n",
    "        self.generate_answer = dspy.ChainOfThought(GenerateAnswer)\n",
    "    \n",
    "    def forward(self, question):\n",
    "        context = self.retrieve(question).passages\n",
    "        prediction = self.generate_answer(context=context, question=question)\n",
    "        return dspy.Prediction(context=context, answer=prediction.answer)\n",
    "\n",
    "\n",
    "#\n",
    "my_question = \"what is the increase in total revenue in 2023 prior to last year, answer based on context only?\"\n",
    "\n",
    "# Get the prediction. This contains `pred.context` and `pred.answer`.\n",
    "rag_pipeline=RAG()\n",
    "pred=rag_pipeline(my_question)\n",
    "\n",
    "rag_pipeline "
   ]
  },
  {
   "cell_type": "code",
   "execution_count": 41,
   "metadata": {},
   "outputs": [
    {
     "name": "stdout",
     "output_type": "stream",
     "text": [
      "Question: what is the increase in total revenue in 2023 prior to last year, answer based on context only?\n",
      "Predicted Answer: $2.13 billion\n",
      "Retrieved Contexts (truncated): ['used vehicle revenue driven by increases in volume, body shop and part sales revenue, non-warranty maintenance services revenue, paid Supercharging revenue and insurance services revenue, all of which...', 'billion for the release of valuation allowance on certain deferred tax assets. We continue to focus on further cost reductions and operational efficiencies while maximizing delivery volumes. We ended ...', 'December 31, 2022. This was driven by a $447 million increase in employee and labor costs primarily from increased headcount, including professional services and a $363 million increase in facilities ...']\n"
     ]
    }
   ],
   "source": [
    "print(f\"Question: {my_question}\")\n",
    "print(f\"Predicted Answer: {pred.answer}\")\n",
    "print(f\"Retrieved Contexts (truncated): {[c[:200] + '...' for c in pred.context]}\")\n"
   ]
  }
 ],
 "metadata": {
  "kernelspec": {
   "display_name": "Python (ptest)",
   "language": "python",
   "name": "ptest"
  },
  "language_info": {
   "codemirror_mode": {
    "name": "ipython",
    "version": 3
   },
   "file_extension": ".py",
   "mimetype": "text/x-python",
   "name": "python",
   "nbconvert_exporter": "python",
   "pygments_lexer": "ipython3",
   "version": "3.11.6"
  }
 },
 "nbformat": 4,
 "nbformat_minor": 2
}
